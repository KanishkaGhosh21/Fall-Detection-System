{
 "cells": [
  {
   "cell_type": "code",
   "execution_count": 52,
   "metadata": {},
   "outputs": [
    {
     "data": {
      "text/html": [
       "<div>\n",
       "<style scoped>\n",
       "    .dataframe tbody tr th:only-of-type {\n",
       "        vertical-align: middle;\n",
       "    }\n",
       "\n",
       "    .dataframe tbody tr th {\n",
       "        vertical-align: top;\n",
       "    }\n",
       "\n",
       "    .dataframe thead th {\n",
       "        text-align: right;\n",
       "    }\n",
       "</style>\n",
       "<table border=\"1\" class=\"dataframe\">\n",
       "  <thead>\n",
       "    <tr style=\"text-align: right;\">\n",
       "      <th></th>\n",
       "      <th>Unnamed: 0</th>\n",
       "      <th>acc_max</th>\n",
       "      <th>gyro_max</th>\n",
       "      <th>acc_kurtosis</th>\n",
       "      <th>gyro_kurtosis</th>\n",
       "      <th>label</th>\n",
       "      <th>lin_max</th>\n",
       "      <th>acc_skewness</th>\n",
       "      <th>gyro_skewness</th>\n",
       "      <th>post_gyro_max</th>\n",
       "      <th>post_lin_max</th>\n",
       "      <th>fall</th>\n",
       "    </tr>\n",
       "  </thead>\n",
       "  <tbody>\n",
       "    <tr>\n",
       "      <th>0</th>\n",
       "      <td>661</td>\n",
       "      <td>26.039919</td>\n",
       "      <td>7.309797</td>\n",
       "      <td>20.378162</td>\n",
       "      <td>2.782476</td>\n",
       "      <td>SDL</td>\n",
       "      <td>11.131080</td>\n",
       "      <td>3.891361</td>\n",
       "      <td>1.592927</td>\n",
       "      <td>7.086618</td>\n",
       "      <td>10.790400</td>\n",
       "      <td>1</td>\n",
       "    </tr>\n",
       "    <tr>\n",
       "      <th>1</th>\n",
       "      <td>122</td>\n",
       "      <td>25.864500</td>\n",
       "      <td>6.511954</td>\n",
       "      <td>14.187190</td>\n",
       "      <td>5.324864</td>\n",
       "      <td>FOL</td>\n",
       "      <td>7.945561</td>\n",
       "      <td>3.022175</td>\n",
       "      <td>2.376939</td>\n",
       "      <td>6.325522</td>\n",
       "      <td>7.719352</td>\n",
       "      <td>1</td>\n",
       "    </tr>\n",
       "    <tr>\n",
       "      <th>2</th>\n",
       "      <td>113</td>\n",
       "      <td>27.524501</td>\n",
       "      <td>12.944099</td>\n",
       "      <td>31.855926</td>\n",
       "      <td>22.891186</td>\n",
       "      <td>FOL</td>\n",
       "      <td>14.454818</td>\n",
       "      <td>4.849024</td>\n",
       "      <td>4.283890</td>\n",
       "      <td>12.888111</td>\n",
       "      <td>14.368784</td>\n",
       "      <td>1</td>\n",
       "    </tr>\n",
       "    <tr>\n",
       "      <th>3</th>\n",
       "      <td>14</td>\n",
       "      <td>30.647705</td>\n",
       "      <td>11.694868</td>\n",
       "      <td>23.608764</td>\n",
       "      <td>9.287735</td>\n",
       "      <td>FOL</td>\n",
       "      <td>15.228303</td>\n",
       "      <td>3.921537</td>\n",
       "      <td>2.794609</td>\n",
       "      <td>11.549971</td>\n",
       "      <td>14.944151</td>\n",
       "      <td>1</td>\n",
       "    </tr>\n",
       "    <tr>\n",
       "      <th>4</th>\n",
       "      <td>529</td>\n",
       "      <td>26.373917</td>\n",
       "      <td>11.168424</td>\n",
       "      <td>14.318453</td>\n",
       "      <td>15.983202</td>\n",
       "      <td>FKL</td>\n",
       "      <td>10.007396</td>\n",
       "      <td>3.087975</td>\n",
       "      <td>3.363557</td>\n",
       "      <td>11.057636</td>\n",
       "      <td>9.753058</td>\n",
       "      <td>1</td>\n",
       "    </tr>\n",
       "  </tbody>\n",
       "</table>\n",
       "</div>"
      ],
      "text/plain": [
       "   Unnamed: 0    acc_max   gyro_max  acc_kurtosis  gyro_kurtosis label  \\\n",
       "0         661  26.039919   7.309797     20.378162       2.782476   SDL   \n",
       "1         122  25.864500   6.511954     14.187190       5.324864   FOL   \n",
       "2         113  27.524501  12.944099     31.855926      22.891186   FOL   \n",
       "3          14  30.647705  11.694868     23.608764       9.287735   FOL   \n",
       "4         529  26.373917  11.168424     14.318453      15.983202   FKL   \n",
       "\n",
       "     lin_max  acc_skewness  gyro_skewness  post_gyro_max  post_lin_max  fall  \n",
       "0  11.131080      3.891361       1.592927       7.086618     10.790400     1  \n",
       "1   7.945561      3.022175       2.376939       6.325522      7.719352     1  \n",
       "2  14.454818      4.849024       4.283890      12.888111     14.368784     1  \n",
       "3  15.228303      3.921537       2.794609      11.549971     14.944151     1  \n",
       "4  10.007396      3.087975       3.363557      11.057636      9.753058     1  "
      ]
     },
     "execution_count": 52,
     "metadata": {},
     "output_type": "execute_result"
    }
   ],
   "source": [
    "import pandas as pd\n",
    "train = pd.read_csv('Train.csv')\n",
    "train.head()"
   ]
  },
  {
   "cell_type": "code",
   "execution_count": 53,
   "metadata": {},
   "outputs": [
    {
     "name": "stdout",
     "output_type": "stream",
     "text": [
      "0       SDL\n",
      "1       FOL\n",
      "2       FOL\n",
      "3       FOL\n",
      "4       FKL\n",
      "       ... \n",
      "1779    WAL\n",
      "1780    WAL\n",
      "1781    WAL\n",
      "1782    WAL\n",
      "1783    WAL\n",
      "Name: label, Length: 1784, dtype: object\n"
     ]
    },
    {
     "data": {
      "text/html": [
       "<div>\n",
       "<style scoped>\n",
       "    .dataframe tbody tr th:only-of-type {\n",
       "        vertical-align: middle;\n",
       "    }\n",
       "\n",
       "    .dataframe tbody tr th {\n",
       "        vertical-align: top;\n",
       "    }\n",
       "\n",
       "    .dataframe thead th {\n",
       "        text-align: right;\n",
       "    }\n",
       "</style>\n",
       "<table border=\"1\" class=\"dataframe\">\n",
       "  <thead>\n",
       "    <tr style=\"text-align: right;\">\n",
       "      <th></th>\n",
       "      <th>acc_max</th>\n",
       "      <th>acc_kurtosis</th>\n",
       "      <th>gyro_kurtosis</th>\n",
       "      <th>lin_max</th>\n",
       "      <th>acc_skewness</th>\n",
       "      <th>gyro_skewness</th>\n",
       "      <th>post_gyro_max</th>\n",
       "      <th>post_lin_max</th>\n",
       "    </tr>\n",
       "  </thead>\n",
       "  <tbody>\n",
       "    <tr>\n",
       "      <th>0</th>\n",
       "      <td>26.039919</td>\n",
       "      <td>20.378162</td>\n",
       "      <td>2.782476</td>\n",
       "      <td>11.131080</td>\n",
       "      <td>3.891361</td>\n",
       "      <td>1.592927</td>\n",
       "      <td>7.086618</td>\n",
       "      <td>10.790400</td>\n",
       "    </tr>\n",
       "    <tr>\n",
       "      <th>1</th>\n",
       "      <td>25.864500</td>\n",
       "      <td>14.187190</td>\n",
       "      <td>5.324864</td>\n",
       "      <td>7.945561</td>\n",
       "      <td>3.022175</td>\n",
       "      <td>2.376939</td>\n",
       "      <td>6.325522</td>\n",
       "      <td>7.719352</td>\n",
       "    </tr>\n",
       "    <tr>\n",
       "      <th>2</th>\n",
       "      <td>27.524501</td>\n",
       "      <td>31.855926</td>\n",
       "      <td>22.891186</td>\n",
       "      <td>14.454818</td>\n",
       "      <td>4.849024</td>\n",
       "      <td>4.283890</td>\n",
       "      <td>12.888111</td>\n",
       "      <td>14.368784</td>\n",
       "    </tr>\n",
       "    <tr>\n",
       "      <th>3</th>\n",
       "      <td>30.647705</td>\n",
       "      <td>23.608764</td>\n",
       "      <td>9.287735</td>\n",
       "      <td>15.228303</td>\n",
       "      <td>3.921537</td>\n",
       "      <td>2.794609</td>\n",
       "      <td>11.549971</td>\n",
       "      <td>14.944151</td>\n",
       "    </tr>\n",
       "    <tr>\n",
       "      <th>4</th>\n",
       "      <td>26.373917</td>\n",
       "      <td>14.318453</td>\n",
       "      <td>15.983202</td>\n",
       "      <td>10.007396</td>\n",
       "      <td>3.087975</td>\n",
       "      <td>3.363557</td>\n",
       "      <td>11.057636</td>\n",
       "      <td>9.753058</td>\n",
       "    </tr>\n",
       "  </tbody>\n",
       "</table>\n",
       "</div>"
      ],
      "text/plain": [
       "     acc_max  acc_kurtosis  gyro_kurtosis    lin_max  acc_skewness  \\\n",
       "0  26.039919     20.378162       2.782476  11.131080      3.891361   \n",
       "1  25.864500     14.187190       5.324864   7.945561      3.022175   \n",
       "2  27.524501     31.855926      22.891186  14.454818      4.849024   \n",
       "3  30.647705     23.608764       9.287735  15.228303      3.921537   \n",
       "4  26.373917     14.318453      15.983202  10.007396      3.087975   \n",
       "\n",
       "   gyro_skewness  post_gyro_max  post_lin_max  \n",
       "0       1.592927       7.086618     10.790400  \n",
       "1       2.376939       6.325522      7.719352  \n",
       "2       4.283890      12.888111     14.368784  \n",
       "3       2.794609      11.549971     14.944151  \n",
       "4       3.363557      11.057636      9.753058  "
      ]
     },
     "execution_count": 53,
     "metadata": {},
     "output_type": "execute_result"
    }
   ],
   "source": [
    "train = train.dropna()\n",
    "train = train.drop(['fall'], axis=1)\n",
    "train = train.drop(['Unnamed: 0'], axis = 1)\n",
    "\n",
    "X = train.drop(['label'], axis=1)\n",
    "y = train['label']\n",
    "print(y)\n",
    "X = X.drop('gyro_max', axis=1)\n",
    "\n",
    "X.head()"
   ]
  },
  {
   "cell_type": "code",
   "execution_count": 54,
   "metadata": {},
   "outputs": [
    {
     "data": {
      "text/plain": [
       "array([ 8,  4,  4, ..., 12, 12, 12])"
      ]
     },
     "execution_count": 54,
     "metadata": {},
     "output_type": "execute_result"
    }
   ],
   "source": [
    "from sklearn.preprocessing import LabelEncoder\n",
    "le = LabelEncoder()\n",
    "y = le.fit_transform(y)\n",
    "y"
   ]
  },
  {
   "cell_type": "code",
   "execution_count": 55,
   "metadata": {},
   "outputs": [],
   "source": [
    "from sklearn.preprocessing import StandardScaler\n",
    "sc = StandardScaler()\n",
    "X = sc.fit_transform(X)\n",
    "\n",
    "# Number of trees in random forest\n",
    "n_estimators =[200,400,600,800,1000]\n",
    "# Number of features to consider at every split\n",
    "max_features = ['auto', 'sqrt']\n",
    "# Maximum number of levels in tree\n",
    "max_depth = [None,10,30,50,70]\n",
    "# Minimum number of samples required to split a node\n",
    "min_samples_split = [2, 5, 9, 12]\n",
    "# Minimum number of samples required at each leaf node\n",
    "min_samples_leaf = [1, 3, 5, 7]\n",
    "# Method of selecting samples for training each tree\n",
    "bootstrap = [True, False]\n",
    "# Create the random grid\n",
    "random_grid = {'n_estimators': n_estimators,\n",
    "               'max_features': max_features,\n",
    "               'max_depth': max_depth,\n",
    "               'min_samples_split': min_samples_split,\n",
    "               'min_samples_leaf': min_samples_leaf,\n",
    "               'bootstrap': bootstrap}"
   ]
  },
  {
   "cell_type": "code",
   "execution_count": null,
   "metadata": {},
   "outputs": [],
   "source": []
  },
  {
   "cell_type": "code",
   "execution_count": 56,
   "metadata": {},
   "outputs": [
    {
     "data": {
      "text/plain": [
       "{'n_estimators': 1000,\n",
       " 'min_samples_split': 2,\n",
       " 'min_samples_leaf': 1,\n",
       " 'max_features': 'auto',\n",
       " 'max_depth': 30,\n",
       " 'bootstrap': True}"
      ]
     },
     "execution_count": 56,
     "metadata": {},
     "output_type": "execute_result"
    }
   ],
   "source": [
    "rf_random.best_params_"
   ]
  },
  {
   "cell_type": "code",
   "execution_count": 57,
   "metadata": {},
   "outputs": [
    {
     "name": "stderr",
     "output_type": "stream",
     "text": [
      "/home/siddharth/.local/lib/python3.10/site-packages/sklearn/ensemble/_forest.py:424: FutureWarning: `max_features='auto'` has been deprecated in 1.1 and will be removed in 1.3. To keep the past behaviour, explicitly set `max_features='sqrt'` or remove this parameter as it is also the default value for RandomForestClassifiers and ExtraTreesClassifiers.\n",
      "  warn(\n"
     ]
    }
   ],
   "source": [
    "from sklearn.ensemble import RandomForestClassifier\n",
    "clf = RandomForestClassifier(\n",
    "n_estimators = 1000,\n",
    "min_samples_split = 2,\n",
    " min_samples_leaf =1,\n",
    " max_features ='auto',\n",
    " max_depth =30,\n",
    " bootstrap =True\n",
    ")\n",
    "clf = clf.fit(X, y)"
   ]
  },
  {
   "cell_type": "code",
   "execution_count": 58,
   "metadata": {},
   "outputs": [
    {
     "data": {
      "text/html": [
       "<div>\n",
       "<style scoped>\n",
       "    .dataframe tbody tr th:only-of-type {\n",
       "        vertical-align: middle;\n",
       "    }\n",
       "\n",
       "    .dataframe tbody tr th {\n",
       "        vertical-align: top;\n",
       "    }\n",
       "\n",
       "    .dataframe thead th {\n",
       "        text-align: right;\n",
       "    }\n",
       "</style>\n",
       "<table border=\"1\" class=\"dataframe\">\n",
       "  <thead>\n",
       "    <tr style=\"text-align: right;\">\n",
       "      <th></th>\n",
       "      <th>Unnamed: 0</th>\n",
       "      <th>acc_max</th>\n",
       "      <th>gyro_max</th>\n",
       "      <th>acc_kurtosis</th>\n",
       "      <th>gyro_kurtosis</th>\n",
       "      <th>label</th>\n",
       "      <th>lin_max</th>\n",
       "      <th>acc_skewness</th>\n",
       "      <th>gyro_skewness</th>\n",
       "      <th>post_gyro_max</th>\n",
       "      <th>post_lin_max</th>\n",
       "      <th>fall</th>\n",
       "    </tr>\n",
       "  </thead>\n",
       "  <tbody>\n",
       "    <tr>\n",
       "      <th>0</th>\n",
       "      <td>9</td>\n",
       "      <td>28.055199</td>\n",
       "      <td>10.794617</td>\n",
       "      <td>21.334536</td>\n",
       "      <td>34.163811</td>\n",
       "      <td>FOL</td>\n",
       "      <td>13.880578</td>\n",
       "      <td>3.283404</td>\n",
       "      <td>4.577283</td>\n",
       "      <td>10.755339</td>\n",
       "      <td>13.762561</td>\n",
       "      <td>1</td>\n",
       "    </tr>\n",
       "    <tr>\n",
       "      <th>1</th>\n",
       "      <td>11</td>\n",
       "      <td>26.639681</td>\n",
       "      <td>8.785024</td>\n",
       "      <td>13.518671</td>\n",
       "      <td>12.812894</td>\n",
       "      <td>FOL</td>\n",
       "      <td>15.789372</td>\n",
       "      <td>3.301849</td>\n",
       "      <td>3.464729</td>\n",
       "      <td>8.277714</td>\n",
       "      <td>15.341656</td>\n",
       "      <td>1</td>\n",
       "    </tr>\n",
       "    <tr>\n",
       "      <th>2</th>\n",
       "      <td>19</td>\n",
       "      <td>25.045219</td>\n",
       "      <td>5.307413</td>\n",
       "      <td>21.603060</td>\n",
       "      <td>4.754182</td>\n",
       "      <td>FOL</td>\n",
       "      <td>11.592445</td>\n",
       "      <td>3.124714</td>\n",
       "      <td>2.268676</td>\n",
       "      <td>4.976134</td>\n",
       "      <td>11.303823</td>\n",
       "      <td>1</td>\n",
       "    </tr>\n",
       "    <tr>\n",
       "      <th>3</th>\n",
       "      <td>23</td>\n",
       "      <td>24.102184</td>\n",
       "      <td>8.929061</td>\n",
       "      <td>24.647657</td>\n",
       "      <td>18.595684</td>\n",
       "      <td>FOL</td>\n",
       "      <td>10.107835</td>\n",
       "      <td>4.522305</td>\n",
       "      <td>3.955288</td>\n",
       "      <td>8.719755</td>\n",
       "      <td>9.727437</td>\n",
       "      <td>1</td>\n",
       "    </tr>\n",
       "    <tr>\n",
       "      <th>4</th>\n",
       "      <td>28</td>\n",
       "      <td>31.668808</td>\n",
       "      <td>10.714750</td>\n",
       "      <td>18.008912</td>\n",
       "      <td>15.086251</td>\n",
       "      <td>FOL</td>\n",
       "      <td>14.138265</td>\n",
       "      <td>3.142132</td>\n",
       "      <td>3.530621</td>\n",
       "      <td>10.580791</td>\n",
       "      <td>13.935016</td>\n",
       "      <td>1</td>\n",
       "    </tr>\n",
       "  </tbody>\n",
       "</table>\n",
       "</div>"
      ],
      "text/plain": [
       "   Unnamed: 0    acc_max   gyro_max  acc_kurtosis  gyro_kurtosis label  \\\n",
       "0           9  28.055199  10.794617     21.334536      34.163811   FOL   \n",
       "1          11  26.639681   8.785024     13.518671      12.812894   FOL   \n",
       "2          19  25.045219   5.307413     21.603060       4.754182   FOL   \n",
       "3          23  24.102184   8.929061     24.647657      18.595684   FOL   \n",
       "4          28  31.668808  10.714750     18.008912      15.086251   FOL   \n",
       "\n",
       "     lin_max  acc_skewness  gyro_skewness  post_gyro_max  post_lin_max  fall  \n",
       "0  13.880578      3.283404       4.577283      10.755339     13.762561     1  \n",
       "1  15.789372      3.301849       3.464729       8.277714     15.341656     1  \n",
       "2  11.592445      3.124714       2.268676       4.976134     11.303823     1  \n",
       "3  10.107835      4.522305       3.955288       8.719755      9.727437     1  \n",
       "4  14.138265      3.142132       3.530621      10.580791     13.935016     1  "
      ]
     },
     "execution_count": 58,
     "metadata": {},
     "output_type": "execute_result"
    }
   ],
   "source": [
    "import pandas as pd\n",
    "test = pd.read_csv('Test.csv')\n",
    "test.head()"
   ]
  },
  {
   "cell_type": "code",
   "execution_count": 59,
   "metadata": {},
   "outputs": [],
   "source": [
    "test = test.dropna()\n",
    "test = test.drop(['fall'], axis=1)\n",
    "test = test.drop(['Unnamed: 0'], axis = 1)\n",
    "\n",
    "X_t = test.drop(['label'], axis=1)\n",
    "y_t = test['label']\n",
    "\n",
    "X_t = X_t.drop('gyro_max', axis=1)\n",
    "\n",
    "y_t = le.fit_transform(y_t)\n",
    "\n",
    "X_t = sc.fit_transform(X_t)"
   ]
  },
  {
   "cell_type": "code",
   "execution_count": 60,
   "metadata": {},
   "outputs": [
    {
     "data": {
      "text/plain": [
       "array([ 4,  4,  4,  4,  4,  4,  4,  4,  4,  4,  4,  4,  4,  4,  4,  4,  4,\n",
       "        4,  4,  4,  4,  4,  4,  4,  4,  4,  4,  4,  4,  4,  4,  4,  4,  4,\n",
       "        4,  4,  4,  4,  4,  4,  4,  8,  4,  4,  0,  0,  0,  0,  0,  0,  0,\n",
       "        0,  0,  0,  0,  0,  0,  0,  0,  0,  0,  0,  0,  0,  0,  0,  0,  0,\n",
       "        0,  0,  0,  0,  0,  0,  0,  0,  0,  0,  0,  0,  0,  3,  3,  3,  3,\n",
       "        3,  3,  3,  3,  3,  3,  3,  3,  3,  3,  3,  3,  3,  3,  3,  3,  3,\n",
       "        3,  3,  3,  3,  3,  3,  3,  3,  3,  3,  3,  3,  8,  8,  8,  8,  8,\n",
       "        8,  8,  8,  8,  8,  8,  8,  8,  8,  8,  8,  8,  8,  3,  8,  8,  8,\n",
       "        8,  8,  8,  8,  8,  8,  8,  8,  8,  8,  8,  8,  8,  8,  8,  8,  8,\n",
       "        1,  1,  1,  1,  1,  1,  1,  0,  2,  1,  1,  1,  1,  1,  1,  1,  1,\n",
       "        2,  1,  1,  1,  1,  2,  2,  2,  2,  2,  2,  2,  2,  2,  2,  2,  2,\n",
       "        2,  2,  2,  2,  2,  2,  2,  2,  2,  2,  2,  2,  2,  2, 10,  6, 10,\n",
       "        5,  6, 10, 10,  6,  6, 10, 10, 10, 10, 10, 10, 10,  6,  5, 10, 10,\n",
       "        5,  6, 11, 11, 11, 10, 11, 11, 11,  5,  5,  5, 11, 11,  5, 11, 11,\n",
       "       11,  5,  5, 11, 11, 11,  5,  5, 11,  5,  5,  5,  5,  6,  5,  5,  5,\n",
       "        6,  5,  5,  5,  5,  5,  5,  5,  5,  5,  5,  5,  5,  5,  5,  6,  6,\n",
       "        6,  6,  6,  6,  6,  6,  6,  6,  6,  6,  6,  6,  6,  6,  6,  6,  6,\n",
       "        6,  6,  6,  6,  6,  7,  7,  7,  7,  7,  7,  7,  7,  7,  7,  7,  7,\n",
       "        7,  7,  7,  7,  7,  7,  7,  7,  9,  9,  9,  9,  9,  9,  9,  9,  9,\n",
       "        9,  9,  9,  9,  9,  9,  9,  9,  9,  9,  9,  9,  9,  9, 12,  6, 12,\n",
       "       11, 12, 12, 12, 12, 12, 12, 10, 12, 12,  5, 10, 10, 12,  5, 12])"
      ]
     },
     "execution_count": 60,
     "metadata": {},
     "output_type": "execute_result"
    }
   ],
   "source": [
    "# Create our predictions\n",
    "prediction = clf.predict(X_t)\n",
    "prediction"
   ]
  },
  {
   "cell_type": "code",
   "execution_count": 61,
   "metadata": {},
   "outputs": [
    {
     "data": {
      "text/plain": [
       "array([ 4,  4,  4,  4,  4,  4,  4,  4,  4,  4,  4,  4,  4,  4,  4,  4,  4,\n",
       "        4,  4,  4,  4,  4,  4,  4,  4,  4,  4,  4,  4,  4,  4,  4,  4,  4,\n",
       "        4,  4,  4,  4,  4,  4,  4,  4,  4,  4,  0,  0,  0,  0,  0,  0,  0,\n",
       "        0,  0,  0,  0,  0,  0,  0,  0,  0,  0,  0,  0,  0,  0,  0,  0,  0,\n",
       "        0,  0,  0,  0,  0,  0,  0,  0,  0,  0,  0,  0,  0,  3,  3,  3,  3,\n",
       "        3,  3,  3,  3,  3,  3,  3,  3,  3,  3,  3,  3,  3,  3,  3,  3,  3,\n",
       "        3,  3,  3,  3,  3,  3,  3,  3,  3,  3,  3,  3,  3,  8,  8,  8,  8,\n",
       "        8,  8,  8,  8,  8,  8,  8,  8,  8,  8,  8,  8,  8,  8,  8,  8,  8,\n",
       "        8,  8,  8,  8,  8,  8,  8,  8,  8,  8,  8,  8,  8,  8,  8,  8,  8,\n",
       "        1,  1,  1,  1,  1,  1,  1,  1,  1,  1,  1,  1,  1,  1,  1,  1,  1,\n",
       "        1,  1,  1,  1,  1,  2,  2,  2,  2,  2,  2,  2,  2,  2,  2,  2,  2,\n",
       "        2,  2,  2,  2,  2,  2,  2,  2,  2,  2,  2,  2,  2,  2, 10, 10, 10,\n",
       "       10, 10, 10, 10, 10, 10, 10, 10, 10, 10, 10, 10, 10, 10, 10, 10, 10,\n",
       "       10, 10, 11, 11, 11, 11, 11, 11, 11, 11, 11, 11, 11, 11, 11, 11, 11,\n",
       "       11, 11, 11, 11, 11, 11, 11, 11, 11,  5,  5,  5,  5,  5,  5,  5,  5,\n",
       "        5,  5,  5,  5,  5,  5,  5,  5,  5,  5,  5,  5,  5,  5,  5,  6,  6,\n",
       "        6,  6,  6,  6,  6,  6,  6,  6,  6,  6,  6,  6,  6,  6,  6,  6,  6,\n",
       "        6,  6,  6,  6,  6,  7,  7,  7,  7,  7,  7,  7,  7,  7,  7,  7,  7,\n",
       "        7,  7,  7,  7,  7,  7,  7,  7,  9,  9,  9,  9,  9,  9,  9,  9,  9,\n",
       "        9,  9,  9,  9,  9,  9,  9,  9,  9,  9,  9,  9,  9,  9, 12, 12, 12,\n",
       "       12, 12, 12, 12, 12, 12, 12, 12, 12, 12, 12, 12, 12, 12, 12, 12])"
      ]
     },
     "execution_count": 61,
     "metadata": {},
     "output_type": "execute_result"
    }
   ],
   "source": [
    "y_t"
   ]
  },
  {
   "cell_type": "code",
   "execution_count": 62,
   "metadata": {},
   "outputs": [
    {
     "data": {
      "text/plain": [
       "0.9073033707865169"
      ]
     },
     "execution_count": 62,
     "metadata": {},
     "output_type": "execute_result"
    }
   ],
   "source": [
    "from sklearn.metrics import confusion_matrix, f1_score, accuracy_score\n",
    "accuracy_score(y_t, prediction)"
   ]
  },
  {
   "cell_type": "code",
   "execution_count": 63,
   "metadata": {},
   "outputs": [
    {
     "data": {
      "text/plain": [
       "array([[37,  0,  0,  0,  0,  0,  0,  0,  0,  0,  0,  0,  0],\n",
       "       [ 1, 19,  2,  0,  0,  0,  0,  0,  0,  0,  0,  0,  0],\n",
       "       [ 0,  0, 26,  0,  0,  0,  0,  0,  0,  0,  0,  0,  0],\n",
       "       [ 0,  0,  0, 33,  0,  0,  0,  0,  1,  0,  0,  0,  0],\n",
       "       [ 0,  0,  0,  0, 43,  0,  0,  0,  1,  0,  0,  0,  0],\n",
       "       [ 0,  0,  0,  0,  0, 21,  2,  0,  0,  0,  0,  0,  0],\n",
       "       [ 0,  0,  0,  0,  0,  0, 24,  0,  0,  0,  0,  0,  0],\n",
       "       [ 0,  0,  0,  0,  0,  0,  0, 20,  0,  0,  0,  0,  0],\n",
       "       [ 0,  0,  0,  1,  0,  0,  0,  0, 37,  0,  0,  0,  0],\n",
       "       [ 0,  0,  0,  0,  0,  0,  0,  0,  0, 23,  0,  0,  0],\n",
       "       [ 0,  0,  0,  0,  0,  3,  6,  0,  0,  0, 13,  0,  0],\n",
       "       [ 0,  0,  0,  0,  0,  8,  0,  0,  0,  0,  1, 15,  0],\n",
       "       [ 0,  0,  0,  0,  0,  2,  1,  0,  0,  0,  3,  1, 12]])"
      ]
     },
     "execution_count": 63,
     "metadata": {},
     "output_type": "execute_result"
    }
   ],
   "source": [
    "confusion_matrix(y_t, prediction)"
   ]
  },
  {
   "cell_type": "code",
   "execution_count": 64,
   "metadata": {},
   "outputs": [
    {
     "name": "stderr",
     "output_type": "stream",
     "text": [
      "/home/siddharth/.local/lib/python3.10/site-packages/sklearn/base.py:439: UserWarning: X does not have valid feature names, but StandardScaler was fitted with feature names\n",
      "  warnings.warn(\n"
     ]
    },
    {
     "data": {
      "text/plain": [
       "array(['JOG', 'STU', 'CSO'], dtype=object)"
      ]
     },
     "execution_count": 64,
     "metadata": {},
     "output_type": "execute_result"
    }
   ],
   "source": [
    "test = [[\n",
    "    27.469898295704088,-0.5663420500087241,-0.2989061840502254,9.371145189972864,0.6150284725287195,0.3087193703061057,-0.2029942122166055,-1.0447698107698535\n",
    "],[\n",
    "    19.107534428950373,1.4348989441474114,-0.7828732563003076,5.868769564746122,0.3785832872805463,0.4681075814082444,-0.111437993109801,1.1902280091453858\n",
    "],[\n",
    "    13.26377884551522,3.9477122262915807,1.073444193254138,2.284613989699388,1.2862747795331828,1.268128386176135,3.4439299326913355,2.2008114221775283\n",
    "]]\n",
    "\n",
    "test = sc.transform(test)\n",
    "pred = clf.predict(test)\n",
    "le.inverse_transform(pred)"
   ]
  },
  {
   "cell_type": "code",
   "execution_count": 65,
   "metadata": {},
   "outputs": [],
   "source": [
    "# save the model to disk\n",
    "import pickle\n",
    "filename = 'finalized_model.pkl'\n",
    "pickle.dump(clf, open(filename, 'wb'))\n",
    "\n",
    "# save the scaler to disk\n",
    "filename = 'finalized_scaler.pkl'\n",
    "pickle.dump(sc, open(filename, 'wb'))\n",
    "\n",
    "# save the label encoder to disk\n",
    "filename = 'finalized_label_encoder.pkl'\n",
    "pickle.dump(le, open(filename, 'wb'))\n"
   ]
  }
 ],
 "metadata": {
  "kernelspec": {
   "display_name": "Python 3",
   "language": "python",
   "name": "python3"
  },
  "language_info": {
   "codemirror_mode": {
    "name": "ipython",
    "version": 3
   },
   "file_extension": ".py",
   "mimetype": "text/x-python",
   "name": "python",
   "nbconvert_exporter": "python",
   "pygments_lexer": "ipython3",
   "version": "3.10.6"
  },
  "orig_nbformat": 4
 },
 "nbformat": 4,
 "nbformat_minor": 2
}
